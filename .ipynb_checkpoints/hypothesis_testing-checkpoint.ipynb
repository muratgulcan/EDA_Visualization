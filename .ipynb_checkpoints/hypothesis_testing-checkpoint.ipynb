{
 "cells": [
  {
   "cell_type": "markdown",
   "id": "9400670c-efdb-4d60-be99-f43cb78d6b50",
   "metadata": {},
   "source": [
    "## Hypothesis Testing\n",
    "\n",
    "Creating a Sample Distribution from our Control and Experimental groups"
   ]
  },
  {
   "cell_type": "code",
   "execution_count": 2,
   "id": "2ed8eac8-b0df-47b1-a86e-6ab22fc207d6",
   "metadata": {},
   "outputs": [],
   "source": [
    "import pandas as pd\n",
    "import numpy as np\n",
    "import seaborn as sns\n",
    "import matplotlib.pyplot as plt"
   ]
  },
  {
   "cell_type": "code",
   "execution_count": 4,
   "id": "f1631d11-e27f-4d86-9ebd-fd636fd208c6",
   "metadata": {},
   "outputs": [
    {
     "data": {
      "text/html": [
       "<div>\n",
       "<style scoped>\n",
       "    .dataframe tbody tr th:only-of-type {\n",
       "        vertical-align: middle;\n",
       "    }\n",
       "\n",
       "    .dataframe tbody tr th {\n",
       "        vertical-align: top;\n",
       "    }\n",
       "\n",
       "    .dataframe thead th {\n",
       "        text-align: right;\n",
       "    }\n",
       "</style>\n",
       "<table border=\"1\" class=\"dataframe\">\n",
       "  <thead>\n",
       "    <tr style=\"text-align: right;\">\n",
       "      <th></th>\n",
       "      <th>group</th>\n",
       "      <th>mean_duration</th>\n",
       "    </tr>\n",
       "  </thead>\n",
       "  <tbody>\n",
       "    <tr>\n",
       "      <th>0</th>\n",
       "      <td>Control</td>\n",
       "      <td>7</td>\n",
       "    </tr>\n",
       "    <tr>\n",
       "      <th>1</th>\n",
       "      <td>Control</td>\n",
       "      <td>5</td>\n",
       "    </tr>\n",
       "    <tr>\n",
       "      <th>2</th>\n",
       "      <td>Control</td>\n",
       "      <td>4</td>\n",
       "    </tr>\n",
       "    <tr>\n",
       "      <th>3</th>\n",
       "      <td>Control</td>\n",
       "      <td>5</td>\n",
       "    </tr>\n",
       "    <tr>\n",
       "      <th>4</th>\n",
       "      <td>Control</td>\n",
       "      <td>8</td>\n",
       "    </tr>\n",
       "  </tbody>\n",
       "</table>\n",
       "</div>"
      ],
      "text/plain": [
       "     group  mean_duration\n",
       "0  Control              7\n",
       "1  Control              5\n",
       "2  Control              4\n",
       "3  Control              5\n",
       "4  Control              8"
      ]
     },
     "execution_count": 4,
     "metadata": {},
     "output_type": "execute_result"
    }
   ],
   "source": [
    "file_name = \"https://raw.githubusercontent.com/rajeevratan84/datascienceforbusiness/master/drug_trial.csv\"\n",
    "df = pd.read_csv(file_name)\n",
    "df.head()"
   ]
  },
  {
   "cell_type": "code",
   "execution_count": 6,
   "id": "f49dacd1-f65c-4d81-acee-9918d8b7b407",
   "metadata": {},
   "outputs": [
    {
     "data": {
      "text/plain": [
       "array(['Control', 'Experimental'], dtype=object)"
      ]
     },
     "execution_count": 6,
     "metadata": {},
     "output_type": "execute_result"
    }
   ],
   "source": [
    "df['group'].unique()"
   ]
  },
  {
   "cell_type": "code",
   "execution_count": 7,
   "id": "36daf992-5bee-4b74-88a8-8c14b8324140",
   "metadata": {},
   "outputs": [
    {
     "data": {
      "text/plain": [
       "(80, 2)"
      ]
     },
     "execution_count": 7,
     "metadata": {},
     "output_type": "execute_result"
    }
   ],
   "source": [
    "df.shape"
   ]
  },
  {
   "cell_type": "code",
   "execution_count": 9,
   "id": "073c0aa1-aa22-454e-ab07-b3f21608211f",
   "metadata": {},
   "outputs": [
    {
     "name": "stdout",
     "output_type": "stream",
     "text": [
      "<class 'pandas.core.frame.DataFrame'>\n",
      "RangeIndex: 80 entries, 0 to 79\n",
      "Data columns (total 2 columns):\n",
      " #   Column         Non-Null Count  Dtype \n",
      "---  ------         --------------  ----- \n",
      " 0   group          80 non-null     object\n",
      " 1   mean_duration  80 non-null     int64 \n",
      "dtypes: int64(1), object(1)\n",
      "memory usage: 1.4+ KB\n"
     ]
    }
   ],
   "source": [
    "df.info()"
   ]
  },
  {
   "cell_type": "code",
   "execution_count": 14,
   "id": "acf7602c-5709-40f4-bb11-af1b07ff230a",
   "metadata": {},
   "outputs": [
    {
     "name": "stdout",
     "output_type": "stream",
     "text": [
      "Control Mean:  mean_duration    5.4\n",
      "dtype: float64\n",
      "Experimental Mean:  mean_duration    4.8\n",
      "dtype: float64\n"
     ]
    }
   ],
   "source": [
    "# show means of control and experimental groups\n",
    "\n",
    "control_mean = df[df['group'] == 'Control'].select_dtypes(include='number').mean()\n",
    "exp_mean = df[df['group'] == 'Experimental'].select_dtypes(include='number').mean()\n",
    "print(\"Control Mean: \", str(control_mean))\n",
    "print(\"Experimental Mean: \", str(exp_mean))"
   ]
  },
  {
   "cell_type": "code",
   "execution_count": 17,
   "id": "4bb54c54-912a-4f7d-a7eb-a68053bf38d1",
   "metadata": {},
   "outputs": [
    {
     "name": "stdout",
     "output_type": "stream",
     "text": [
      "Mean Differences Mean - -0.003196884355078123\n"
     ]
    },
    {
     "name": "stderr",
     "output_type": "stream",
     "text": [
      "/Library/Frameworks/Python.framework/Versions/3.8/lib/python3.8/site-packages/seaborn/axisgrid.py:64: UserWarning: The figure layout has changed to tight\n",
      "  self.fig.tight_layout(*args, **kwargs)\n"
     ]
    },
    {
     "data": {
      "text/plain": [
       "<seaborn.axisgrid.FacetGrid at 0x7fe4910684f0>"
      ]
     },
     "execution_count": 17,
     "metadata": {},
     "output_type": "execute_result"
    },
    {
     "data": {
      "image/png": "[encoded data removed]",
      "text/plain": [
       "<Figure size 500x500 with 1 Axes>"
      ]
     },
     "metadata": {},
     "output_type": "display_data"
    }
   ],
   "source": [
    "mean_difference = control_mean - exp_mean\n",
    "data_points = list(df['mean_duration'])\n",
    "mean_differences = []\n",
    "number_of_iterations = 10000\n",
    "\n",
    "for i in range(number_of_iterations):\n",
    "    group1 = []\n",
    "    group2 = []\n",
    "    for data_point in data_points:\n",
    "        random_assignment = np.random.randint(0,2) == True\n",
    "        if random_assignment:\n",
    "            group1.append(data_point)\n",
    "        else:\n",
    "            group2.append(data_point)\n",
    "\n",
    "    trial_mean_difference = np.mean(group2) - np.mean(group1)\n",
    "    mean_differences.append(trial_mean_difference)\n",
    "\n",
    "print(\"Mean Differences Mean - \" + str(np.array(mean_differences).mean()))\n",
    "# Generate frequency or histogram plot\n",
    "sns.displot(mean_differences, bins=20, kde= True)"
   ]
  }
 ],
 "metadata": {
  "kernelspec": {
   "display_name": "Python 3 (ipykernel)",
   "language": "python",
   "name": "python3"
  },
  "language_info": {
   "codemirror_mode": {
    "name": "ipython",
    "version": 3
   },
   "file_extension": ".py",
   "mimetype": "text/x-python",
   "name": "python",
   "nbconvert_exporter": "python",
   "pygments_lexer": "ipython3",
   "version": "3.8.6"
  }
 },
 "nbformat": 4,
 "nbformat_minor": 5
}
